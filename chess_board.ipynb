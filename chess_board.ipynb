{
 "cells": [
  {
   "cell_type": "code",
   "execution_count": 30,
   "metadata": {},
   "outputs": [],
   "source": [
    "%matplotlib inline\n",
    "import numpy as np\n",
    "import matplotlib.pyplot as plt\n"
   ]
  },
  {
   "cell_type": "code",
   "execution_count": 44,
   "metadata": {},
   "outputs": [
    {
     "data": {
      "text/plain": [
       "<matplotlib.image.AxesImage at 0x7f7671210ac0>"
      ]
     },
     "execution_count": 44,
     "metadata": {},
     "output_type": "execute_result"
    },
    {
     "data": {
      "image/png": "[encoded data removed]",
      "text/plain": [
       "<Figure size 432x288 with 1 Axes>"
      ]
     },
     "metadata": {
      "needs_background": "light"
     },
     "output_type": "display_data"
    }
   ],
   "source": [
    "grid = np.ones((8,8,3))\n",
    "for row in range(8):\n",
    "  for col in range(8):\n",
    "    if (not col % 2 and not row % 2) or (col % 2 and row % 2):\n",
    "      grid[row,col] = (0,0,0)   \n",
    "plt.imshow(grid)"
   ]
  },
  {
   "cell_type": "code",
   "execution_count": 43,
   "metadata": {},
   "outputs": [],
   "source": [
    "class ChessBoard:\n",
    "    def __init__(self):\n",
    "        self.grid=np.ones((8,8,3))\n",
    "        for row in range(8):\n",
    "            for col in range(8):\n",
    "                if ((not row%2 and not not col%2)or(col%2 and row%2)):\n",
    "                    grid[row,col]=(0,0,0)\n",
    "    def add_red(self):\n",
    "         self.row=input(\"> enter the row of the red queen\")\n",
    "         self.col=input(\"> enter the col of the red queen\")\n",
    "         self.grid[row,col]=(1,.2,0)\n",
    "    def add_blue(self):\n",
    "        self.row=input(\"> enter the row of the blue queen\")\n",
    "        self.col=input(\"> enter the col of the blue queen\")\n",
    "        self.grid[row,col]=(0,1,1)\n",
    "    def render(self):\n",
    "        plt.imshow(self.grid)         \n",
    "        \n",
    "     \t\t\t\n",
    "\t\t\t       \n",
    "\t\t\n",
    "        "
   ]
  },
  {
   "cell_type": "code",
   "execution_count": null,
   "metadata": {},
   "outputs": [],
   "source": []
  }
 ],
 "metadata": {
  "interpreter": {
   "hash": "d0295f984cc9d8f4ce0e700226225df9649d9b1f82eda22e844bdb0bf7656e8c"
  },
  "kernelspec": {
   "display_name": "Python 3.9.5 64-bit ('.venv': poetry)",
   "name": "python3"
  },
  "language_info": {
   "codemirror_mode": {
    "name": "ipython",
    "version": 3
   },
   "file_extension": ".py",
   "mimetype": "text/x-python",
   "name": "python",
   "nbconvert_exporter": "python",
   "pygments_lexer": "ipython3",
   "version": "3.9.5"
  },
  "orig_nbformat": 4
 },
 "nbformat": 4,
 "nbformat_minor": 2
}
