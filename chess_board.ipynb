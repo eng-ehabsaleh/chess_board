{
 "cells": [
  {
   "cell_type": "code",
   "execution_count": 112,
   "metadata": {},
   "outputs": [
    {
     "name": "stdout",
     "output_type": "stream",
     "text": [
      "True\n"
     ]
    },
    {
     "data": {
      "image/png": "[encoded data removed]",
      "text/plain": [
       "<Figure size 432x288 with 1 Axes>"
      ]
     },
     "metadata": {
      "needs_background": "light"
     },
     "output_type": "display_data"
    }
   ],
   "source": [
    "%matplotlib inline\n",
    "import numpy as np\n",
    "import matplotlib.pyplot as plt\n",
    "class Chess_Board:\n",
    "    \n",
    "    def __init__(self):\n",
    "        self.grid=np.ones((8,8,3),dtype=\"f\")\n",
    "        for row in range(8):\n",
    "            for col in range(8):\n",
    "                if ((not row%2 and  not col%2)or(col%2 and row%2)):\n",
    "                    self.grid[row,col]=(0,0,0)\n",
    "    def add_red(self,row,col):\n",
    "         self.grid[row,col]=(1,.2,0) \n",
    "         self.gr=[row,col]\n",
    "    def add_blue(self,row,col):\n",
    "        self.grid[row,col]=(0,1,1)\n",
    "        self.gb=[row,col]\n",
    "    def render(self):\n",
    "        plt.imshow(self.grid)         \n",
    "    def is_under_attack(self):\n",
    "        # x=abs(np.array(self.gr)-np.array(self.gb))\n",
    "        if((self.gr[0]==self.gb[0])or(self.gr[1]==self.gb[1])or(self.gr[0]-self.gb[0]==self.gr[1]-self.gb[1])):\n",
    "            return True\n",
    "        return False         \t\t\t\n",
    "\t    \t       \n",
    "player=Chess_Board()\n",
    "player.add_red(3,4)\n",
    "player.add_blue(5,6)\n",
    "print(player.is_under_attack())\n",
    "player.render()\t\n",
    "        "
   ]
  },
  {
   "cell_type": "code",
   "execution_count": 106,
   "metadata": {},
   "outputs": [],
   "source": [
    "def test_on_same_row():\n",
    "    #Arrange\n",
    "    expected=True\n",
    "    player=Chess_Board()\n",
    "    #Act\n",
    "    player.add_red(3,6)\n",
    "    player.add_blue(3,7)\n",
    "    #Assert\n",
    "    actual=player.is_under_attack()\n",
    "    assert expected == actual\n",
    "    "
   ]
  },
  {
   "cell_type": "code",
   "execution_count": 109,
   "metadata": {},
   "outputs": [],
   "source": [
    "def test_on_same_col():\n",
    "    #Arrange\n",
    "    expected = True\n",
    "    player = Chess_Board()\n",
    "    #Act\n",
    "    player.add_red(1,7)\n",
    "    player.add_blue(3,7)\n",
    "    #Assert\n",
    "    actual=player.is_under_attack()\n",
    "    assert expected == actual\n",
    "    "
   ]
  },
  {
   "cell_type": "code",
   "execution_count": 113,
   "metadata": {},
   "outputs": [],
   "source": [
    "def test_on_same_diagonal():\n",
    "    #Arrange\n",
    "    expected = True\n",
    "    player = Chess_Board()\n",
    "    #Act\n",
    "    player.add_red(3,4)\n",
    "    player.add_blue(5,6)\n",
    "    #Assert\n",
    "    actual=player.is_under_attack()\n",
    "    print(player.is_under_attack())\n",
    "    assert expected == actual"
   ]
  }
 ],
 "metadata": {
  "interpreter": {
   "hash": "d0295f984cc9d8f4ce0e700226225df9649d9b1f82eda22e844bdb0bf7656e8c"
  },
  "kernelspec": {
   "display_name": "Python 3.9.5 64-bit ('.venv': poetry)",
   "name": "python3"
  },
  "language_info": {
   "codemirror_mode": {
    "name": "ipython",
    "version": 3
   },
   "file_extension": ".py",
   "mimetype": "text/x-python",
   "name": "python",
   "nbconvert_exporter": "python",
   "pygments_lexer": "ipython3",
   "version": "3.9.5"
  },
  "orig_nbformat": 4
 },
 "nbformat": 4,
 "nbformat_minor": 2
}
